{
  "nbformat": 4,
  "nbformat_minor": 0,
  "metadata": {
    "colab": {
      "provenance": [],
      "include_colab_link": true
    },
    "kernelspec": {
      "name": "python3",
      "display_name": "Python 3"
    },
    "language_info": {
      "name": "python"
    },
    "accelerator": "GPU"
  },
  "cells": [
    {
      "cell_type": "markdown",
      "metadata": {
        "id": "view-in-github",
        "colab_type": "text"
      },
      "source": [
        "<a href=\"https://colab.research.google.com/github/MrUmidjan90/Signature-Verification/blob/master/%D0%98%D0%B7%D0%B2%D0%BB%D0%B5%D1%87%D0%B5%D0%BD%D0%B8%D0%B5_%D0%BF%D1%80%D0%B8%D0%B7%D0%BD%D0%B0%D0%BA%D0%BE%D0%B2.ipynb\" target=\"_parent\"><img src=\"https://colab.research.google.com/assets/colab-badge.svg\" alt=\"Open In Colab\"/></a>"
      ]
    },
    {
      "cell_type": "markdown",
      "metadata": {
        "id": "vF5cQOoYoXi6"
      },
      "source": [
        "# Оценка информативности признаков (моя копия файла:)"
      ]
    },
    {
      "cell_type": "code",
      "source": [],
      "metadata": {
        "id": "oFHg2njj0gL6"
      },
      "execution_count": null,
      "outputs": []
    },
    {
      "cell_type": "code",
      "metadata": {
        "colab": {
          "base_uri": "https://localhost:8080/"
        },
        "id": "O1AOP2-JNVAF",
        "outputId": "fa2ebdb0-3620-44c8-9341-56899ffeb553"
      },
      "source": [
        "!ls"
      ],
      "execution_count": 1,
      "outputs": [
        {
          "output_type": "stream",
          "name": "stdout",
          "text": [
            "sample_data\n"
          ]
        }
      ]
    },
    {
      "cell_type": "code",
      "metadata": {
        "id": "W-PrZ6fEoXi7"
      },
      "source": [
        "import numpy as np\n",
        "import pandas as pd \n",
        "import sklearn.feature_selection\n",
        "\n",
        "import matplotlib.pyplot as plt\n",
        "plt.rcParams['figure.figsize'] = [30, 20]\n",
        "\n",
        "from sklearn.model_selection import train_test_split\n",
        "from sklearn import preprocessing\n",
        "from sklearn.feature_selection import SelectKBest, f_classif"
      ],
      "execution_count": 2,
      "outputs": []
    },
    {
      "cell_type": "code",
      "metadata": {
        "id": "vQCBn9a9oXi9"
      },
      "source": [
        "# чтение файла с гугл-диска. не использую это, а читаю файл с диска на компе\n",
        "#from google.colab import drive\n",
        "#drive.mount('/content/drive')\n",
        "#features_file = 'combined_features.csv'"
      ],
      "execution_count": 3,
      "outputs": []
    },
    {
      "cell_type": "code",
      "metadata": {
        "colab": {
          "base_uri": "https://localhost:8080/",
          "height": 73
        },
        "id": "SGG-PeC2HTjz",
        "outputId": "5e9a1d98-05ea-4ee1-a518-9955be3575c8"
      },
      "source": [
        "from google.colab import files\n",
        "upload = files.upload()\n",
        "features_file = 'combined_features.csv'"
      ],
      "execution_count": 4,
      "outputs": [
        {
          "output_type": "display_data",
          "data": {
            "text/plain": [
              "<IPython.core.display.HTML object>"
            ],
            "text/html": [
              "\n",
              "     <input type=\"file\" id=\"files-484b577a-e254-46fe-9361-e2a7de1243be\" name=\"files[]\" multiple disabled\n",
              "        style=\"border:none\" />\n",
              "     <output id=\"result-484b577a-e254-46fe-9361-e2a7de1243be\">\n",
              "      Upload widget is only available when the cell has been executed in the\n",
              "      current browser session. Please rerun this cell to enable.\n",
              "      </output>\n",
              "      <script>// Copyright 2017 Google LLC\n",
              "//\n",
              "// Licensed under the Apache License, Version 2.0 (the \"License\");\n",
              "// you may not use this file except in compliance with the License.\n",
              "// You may obtain a copy of the License at\n",
              "//\n",
              "//      http://www.apache.org/licenses/LICENSE-2.0\n",
              "//\n",
              "// Unless required by applicable law or agreed to in writing, software\n",
              "// distributed under the License is distributed on an \"AS IS\" BASIS,\n",
              "// WITHOUT WARRANTIES OR CONDITIONS OF ANY KIND, either express or implied.\n",
              "// See the License for the specific language governing permissions and\n",
              "// limitations under the License.\n",
              "\n",
              "/**\n",
              " * @fileoverview Helpers for google.colab Python module.\n",
              " */\n",
              "(function(scope) {\n",
              "function span(text, styleAttributes = {}) {\n",
              "  const element = document.createElement('span');\n",
              "  element.textContent = text;\n",
              "  for (const key of Object.keys(styleAttributes)) {\n",
              "    element.style[key] = styleAttributes[key];\n",
              "  }\n",
              "  return element;\n",
              "}\n",
              "\n",
              "// Max number of bytes which will be uploaded at a time.\n",
              "const MAX_PAYLOAD_SIZE = 100 * 1024;\n",
              "\n",
              "function _uploadFiles(inputId, outputId) {\n",
              "  const steps = uploadFilesStep(inputId, outputId);\n",
              "  const outputElement = document.getElementById(outputId);\n",
              "  // Cache steps on the outputElement to make it available for the next call\n",
              "  // to uploadFilesContinue from Python.\n",
              "  outputElement.steps = steps;\n",
              "\n",
              "  return _uploadFilesContinue(outputId);\n",
              "}\n",
              "\n",
              "// This is roughly an async generator (not supported in the browser yet),\n",
              "// where there are multiple asynchronous steps and the Python side is going\n",
              "// to poll for completion of each step.\n",
              "// This uses a Promise to block the python side on completion of each step,\n",
              "// then passes the result of the previous step as the input to the next step.\n",
              "function _uploadFilesContinue(outputId) {\n",
              "  const outputElement = document.getElementById(outputId);\n",
              "  const steps = outputElement.steps;\n",
              "\n",
              "  const next = steps.next(outputElement.lastPromiseValue);\n",
              "  return Promise.resolve(next.value.promise).then((value) => {\n",
              "    // Cache the last promise value to make it available to the next\n",
              "    // step of the generator.\n",
              "    outputElement.lastPromiseValue = value;\n",
              "    return next.value.response;\n",
              "  });\n",
              "}\n",
              "\n",
              "/**\n",
              " * Generator function which is called between each async step of the upload\n",
              " * process.\n",
              " * @param {string} inputId Element ID of the input file picker element.\n",
              " * @param {string} outputId Element ID of the output display.\n",
              " * @return {!Iterable<!Object>} Iterable of next steps.\n",
              " */\n",
              "function* uploadFilesStep(inputId, outputId) {\n",
              "  const inputElement = document.getElementById(inputId);\n",
              "  inputElement.disabled = false;\n",
              "\n",
              "  const outputElement = document.getElementById(outputId);\n",
              "  outputElement.innerHTML = '';\n",
              "\n",
              "  const pickedPromise = new Promise((resolve) => {\n",
              "    inputElement.addEventListener('change', (e) => {\n",
              "      resolve(e.target.files);\n",
              "    });\n",
              "  });\n",
              "\n",
              "  const cancel = document.createElement('button');\n",
              "  inputElement.parentElement.appendChild(cancel);\n",
              "  cancel.textContent = 'Cancel upload';\n",
              "  const cancelPromise = new Promise((resolve) => {\n",
              "    cancel.onclick = () => {\n",
              "      resolve(null);\n",
              "    };\n",
              "  });\n",
              "\n",
              "  // Wait for the user to pick the files.\n",
              "  const files = yield {\n",
              "    promise: Promise.race([pickedPromise, cancelPromise]),\n",
              "    response: {\n",
              "      action: 'starting',\n",
              "    }\n",
              "  };\n",
              "\n",
              "  cancel.remove();\n",
              "\n",
              "  // Disable the input element since further picks are not allowed.\n",
              "  inputElement.disabled = true;\n",
              "\n",
              "  if (!files) {\n",
              "    return {\n",
              "      response: {\n",
              "        action: 'complete',\n",
              "      }\n",
              "    };\n",
              "  }\n",
              "\n",
              "  for (const file of files) {\n",
              "    const li = document.createElement('li');\n",
              "    li.append(span(file.name, {fontWeight: 'bold'}));\n",
              "    li.append(span(\n",
              "        `(${file.type || 'n/a'}) - ${file.size} bytes, ` +\n",
              "        `last modified: ${\n",
              "            file.lastModifiedDate ? file.lastModifiedDate.toLocaleDateString() :\n",
              "                                    'n/a'} - `));\n",
              "    const percent = span('0% done');\n",
              "    li.appendChild(percent);\n",
              "\n",
              "    outputElement.appendChild(li);\n",
              "\n",
              "    const fileDataPromise = new Promise((resolve) => {\n",
              "      const reader = new FileReader();\n",
              "      reader.onload = (e) => {\n",
              "        resolve(e.target.result);\n",
              "      };\n",
              "      reader.readAsArrayBuffer(file);\n",
              "    });\n",
              "    // Wait for the data to be ready.\n",
              "    let fileData = yield {\n",
              "      promise: fileDataPromise,\n",
              "      response: {\n",
              "        action: 'continue',\n",
              "      }\n",
              "    };\n",
              "\n",
              "    // Use a chunked sending to avoid message size limits. See b/62115660.\n",
              "    let position = 0;\n",
              "    do {\n",
              "      const length = Math.min(fileData.byteLength - position, MAX_PAYLOAD_SIZE);\n",
              "      const chunk = new Uint8Array(fileData, position, length);\n",
              "      position += length;\n",
              "\n",
              "      const base64 = btoa(String.fromCharCode.apply(null, chunk));\n",
              "      yield {\n",
              "        response: {\n",
              "          action: 'append',\n",
              "          file: file.name,\n",
              "          data: base64,\n",
              "        },\n",
              "      };\n",
              "\n",
              "      let percentDone = fileData.byteLength === 0 ?\n",
              "          100 :\n",
              "          Math.round((position / fileData.byteLength) * 100);\n",
              "      percent.textContent = `${percentDone}% done`;\n",
              "\n",
              "    } while (position < fileData.byteLength);\n",
              "  }\n",
              "\n",
              "  // All done.\n",
              "  yield {\n",
              "    response: {\n",
              "      action: 'complete',\n",
              "    }\n",
              "  };\n",
              "}\n",
              "\n",
              "scope.google = scope.google || {};\n",
              "scope.google.colab = scope.google.colab || {};\n",
              "scope.google.colab._files = {\n",
              "  _uploadFiles,\n",
              "  _uploadFilesContinue,\n",
              "};\n",
              "})(self);\n",
              "</script> "
            ]
          },
          "metadata": {}
        },
        {
          "output_type": "stream",
          "name": "stdout",
          "text": [
            "Saving combined_features.csv to combined_features.csv\n"
          ]
        }
      ]
    },
    {
      "cell_type": "code",
      "metadata": {
        "colab": {
          "base_uri": "https://localhost:8080/"
        },
        "id": "pssfEWdOGr3O",
        "outputId": "7a485081-2666-4ce9-d1c8-f8d4b852ce5e"
      },
      "source": [
        "!ls"
      ],
      "execution_count": 7,
      "outputs": [
        {
          "output_type": "stream",
          "name": "stdout",
          "text": [
            "combined_features.csv  sample_data\n"
          ]
        }
      ]
    },
    {
      "cell_type": "code",
      "metadata": {
        "id": "C10ypM_7oXi9"
      },
      "source": [
        "features = pd.read_csv(features_file, sep='\\t').set_index('File')"
      ],
      "execution_count": 8,
      "outputs": []
    },
    {
      "cell_type": "code",
      "metadata": {
        "id": "ASBK47ARoXi-"
      },
      "source": [
        "feature_names = features.columns"
      ],
      "execution_count": 9,
      "outputs": []
    },
    {
      "cell_type": "markdown",
      "metadata": {
        "id": "o9HdF5d3oXi-"
      },
      "source": [
        "сформировать лейблы классов"
      ]
    },
    {
      "cell_type": "code",
      "metadata": {
        "id": "j9AAL_U-oXi-"
      },
      "source": [
        "labels = [file[0:3] for file in features.index]"
      ],
      "execution_count": 10,
      "outputs": []
    },
    {
      "cell_type": "markdown",
      "metadata": {
        "id": "wInkEYdMoXi_"
      },
      "source": [
        "Кодируем лейблы в числа от 0 до  n_classes-1 (не обязательно)"
      ]
    },
    {
      "cell_type": "code",
      "metadata": {
        "id": "0NvXXEAdoXi_"
      },
      "source": [
        "le = preprocessing.LabelEncoder()\n",
        "labels = le.fit_transform(labels)"
      ],
      "execution_count": 11,
      "outputs": []
    },
    {
      "cell_type": "markdown",
      "metadata": {
        "id": "lMPjxWgXoXjA"
      },
      "source": [
        "скорвертировать входные данные в матрицу чисел"
      ]
    },
    {
      "cell_type": "code",
      "metadata": {
        "id": "SS8fL-tLoXjA"
      },
      "source": [
        "X_indices = np.arange(features.shape[1])\n",
        "X = features.to_numpy()\n",
        "X = np.nan_to_num(X, posinf=0, neginf=0)"
      ],
      "execution_count": 12,
      "outputs": []
    },
    {
      "cell_type": "markdown",
      "metadata": {
        "id": "3XVSxOkaoXjA"
      },
      "source": [
        "##  Оценка на основе ANOVA "
      ]
    },
    {
      "cell_type": "code",
      "metadata": {
        "id": "MTbRyGb3oXjB"
      },
      "source": [
        "def print_selected_features(features_names, index_support, scores=None):\n",
        "    best_k_features = feature_names[index_support]\n",
        "    \n",
        "    if scores is not None:\n",
        "        best_k_scores = scores[index_support]\n",
        "        best_k = pd.DataFrame(zip(best_k_features, best_k_scores), columns=['Признак','score']).sort_values(by='score', ascending=False)\n",
        "    else:\n",
        "        best_k = pd.DataFrame(best_k_features, columns=['Признак'])\n",
        "    \n",
        "    print(best_k)"
      ],
      "execution_count": 13,
      "outputs": []
    },
    {
      "cell_type": "markdown",
      "metadata": {
        "id": "tXnRwMQFoXjB"
      },
      "source": [
        "## Оценка 10 лучших признаков"
      ]
    },
    {
      "cell_type": "code",
      "metadata": {
        "colab": {
          "base_uri": "https://localhost:8080/"
        },
        "id": "Vg36kqEQoXjC",
        "outputId": "663c500d-6733-46e5-965a-1eb9f509aa10"
      },
      "source": [
        "selector_kbest = SelectKBest()\n",
        "selector_kbest.fit(X, labels)"
      ],
      "execution_count": 14,
      "outputs": [
        {
          "output_type": "execute_result",
          "data": {
            "text/plain": [
              "SelectKBest()"
            ]
          },
          "metadata": {},
          "execution_count": 14
        }
      ]
    },
    {
      "cell_type": "code",
      "metadata": {
        "colab": {
          "base_uri": "https://localhost:8080/",
          "height": 592
        },
        "id": "LPCr7mT4oXjC",
        "outputId": "6b3a686f-62aa-408a-c26d-0c072957de9c"
      },
      "source": [
        "plt.bar(X_indices, selector_kbest.scores_)"
      ],
      "execution_count": 15,
      "outputs": [
        {
          "output_type": "execute_result",
          "data": {
            "text/plain": [
              "<BarContainer object of 139 artists>"
            ]
          },
          "metadata": {},
          "execution_count": 15
        },
        {
          "output_type": "display_data",
          "data": {
            "text/plain": [
              "<Figure size 2160x1440 with 1 Axes>"
            ],
            "image/png": "[encoded data removed]"
          },
          "metadata": {
            "needs_background": "light"
          }
        }
      ]
    },
    {
      "cell_type": "markdown",
      "metadata": {
        "id": "9Ue9kkbOoXjC"
      },
      "source": [
        "### наиболее информативные признаки:"
      ]
    },
    {
      "cell_type": "code",
      "metadata": {
        "colab": {
          "base_uri": "https://localhost:8080/"
        },
        "id": "kywGr87IoXjC",
        "outputId": "a659586b-9007-4cd1-f27d-ab27184bc618"
      },
      "source": [
        "print_selected_features(feature_names, selector_kbest.get_support(),selector_kbest.scores_)"
      ],
      "execution_count": 16,
      "outputs": [
        {
          "output_type": "stream",
          "name": "stdout",
          "text": [
            "      Признак      score\n",
            "7  lbp_r7_h29  20.522259\n",
            "4   lbp_r7_h0  14.970581\n",
            "8  lbp_r7_h31  14.784452\n",
            "1   lbp_r3_h5  13.987007\n",
            "3  lbp_r5_h21  12.717266\n",
            "2   lbp_r3_h6  12.528294\n",
            "0  SumEntropy  12.217235\n",
            "9  lbp_r7_h54  12.120927\n",
            "6  lbp_r7_h28  12.065493\n",
            "5  lbp_r7_h27  11.759576\n"
          ]
        }
      ]
    },
    {
      "cell_type": "markdown",
      "metadata": {
        "id": "5XVN1IV5oXjD"
      },
      "source": [
        "## Оценка 10 процентиля"
      ]
    },
    {
      "cell_type": "code",
      "metadata": {
        "colab": {
          "base_uri": "https://localhost:8080/"
        },
        "id": "o_7MkmbsoXjD",
        "outputId": "06d62cf7-1fdb-48df-93af-de63f2682491"
      },
      "source": [
        "from sklearn.feature_selection import SelectPercentile, chi2\n",
        "\n",
        "selector_percent = SelectPercentile()\n",
        "selector_percent.fit(X, labels)"
      ],
      "execution_count": 17,
      "outputs": [
        {
          "output_type": "execute_result",
          "data": {
            "text/plain": [
              "SelectPercentile()"
            ]
          },
          "metadata": {},
          "execution_count": 17
        }
      ]
    },
    {
      "cell_type": "markdown",
      "metadata": {
        "id": "iBUcb8WHoXjD"
      },
      "source": [
        "### наиболее информативные признаки:"
      ]
    },
    {
      "cell_type": "code",
      "metadata": {
        "colab": {
          "base_uri": "https://localhost:8080/"
        },
        "id": "noY8fjYBoXjD",
        "outputId": "02017e00-6a9e-4b24-b73a-385dea8ab7f4"
      },
      "source": [
        "print_selected_features(selector_percent, selector_percent.get_support(), selector_percent.scores_)"
      ],
      "execution_count": 18,
      "outputs": [
        {
          "output_type": "stream",
          "name": "stdout",
          "text": [
            "       Признак      score\n",
            "10  lbp_r7_h29  20.522259\n",
            "7    lbp_r7_h0  14.970581\n",
            "11  lbp_r7_h31  14.784452\n",
            "2    lbp_r3_h5  13.987007\n",
            "6   lbp_r5_h21  12.717266\n",
            "3    lbp_r3_h6  12.528294\n",
            "0   SumEntropy  12.217235\n",
            "13  lbp_r7_h54  12.120927\n",
            "9   lbp_r7_h28  12.065493\n",
            "8   lbp_r7_h27  11.759576\n",
            "5    lbp_r5_h5  11.603908\n",
            "12  lbp_r7_h37  11.279150\n",
            "1    lbp_r3_h4  11.198363\n",
            "4    lbp_r5_h4  11.163678\n"
          ]
        }
      ]
    },
    {
      "cell_type": "markdown",
      "metadata": {
        "id": "hRGkg3fNoXjE"
      },
      "source": [
        "## Recursive feature elimination"
      ]
    },
    {
      "cell_type": "code",
      "metadata": {
        "id": "4C8WZM0-oXjE"
      },
      "source": [
        "from sklearn.svm import LinearSVC\n",
        "from sklearn.feature_selection import RFE"
      ],
      "execution_count": 19,
      "outputs": []
    },
    {
      "cell_type": "code",
      "metadata": {
        "colab": {
          "base_uri": "https://localhost:8080/"
        },
        "id": "SGw2UzmmoXjE",
        "outputId": "13c05d48-add8-4f41-89e8-0d0c38f321ff"
      },
      "source": [
        "svc = LinearSVC(C=0.01, dual=False)\n",
        "rfe = RFE(estimator=svc, n_features_to_select=10, step=1, verbose=1)\n",
        "rfe.fit(X, labels)"
      ],
      "execution_count": 20,
      "outputs": [
        {
          "output_type": "stream",
          "name": "stdout",
          "text": [
            "Fitting estimator with 139 features.\n",
            "Fitting estimator with 138 features.\n",
            "Fitting estimator with 137 features.\n",
            "Fitting estimator with 136 features.\n",
            "Fitting estimator with 135 features.\n",
            "Fitting estimator with 134 features.\n",
            "Fitting estimator with 133 features.\n",
            "Fitting estimator with 132 features.\n",
            "Fitting estimator with 131 features.\n",
            "Fitting estimator with 130 features.\n",
            "Fitting estimator with 129 features.\n",
            "Fitting estimator with 128 features.\n",
            "Fitting estimator with 127 features.\n",
            "Fitting estimator with 126 features.\n",
            "Fitting estimator with 125 features.\n",
            "Fitting estimator with 124 features.\n",
            "Fitting estimator with 123 features.\n",
            "Fitting estimator with 122 features.\n",
            "Fitting estimator with 121 features.\n",
            "Fitting estimator with 120 features.\n",
            "Fitting estimator with 119 features.\n",
            "Fitting estimator with 118 features.\n",
            "Fitting estimator with 117 features.\n",
            "Fitting estimator with 116 features.\n",
            "Fitting estimator with 115 features.\n",
            "Fitting estimator with 114 features.\n",
            "Fitting estimator with 113 features.\n",
            "Fitting estimator with 112 features.\n",
            "Fitting estimator with 111 features.\n",
            "Fitting estimator with 110 features.\n",
            "Fitting estimator with 109 features.\n",
            "Fitting estimator with 108 features.\n",
            "Fitting estimator with 107 features.\n",
            "Fitting estimator with 106 features.\n",
            "Fitting estimator with 105 features.\n",
            "Fitting estimator with 104 features.\n",
            "Fitting estimator with 103 features.\n",
            "Fitting estimator with 102 features.\n",
            "Fitting estimator with 101 features.\n",
            "Fitting estimator with 100 features.\n",
            "Fitting estimator with 99 features.\n",
            "Fitting estimator with 98 features.\n",
            "Fitting estimator with 97 features.\n",
            "Fitting estimator with 96 features.\n",
            "Fitting estimator with 95 features.\n",
            "Fitting estimator with 94 features.\n",
            "Fitting estimator with 93 features.\n",
            "Fitting estimator with 92 features.\n",
            "Fitting estimator with 91 features.\n",
            "Fitting estimator with 90 features.\n",
            "Fitting estimator with 89 features.\n",
            "Fitting estimator with 88 features.\n",
            "Fitting estimator with 87 features.\n",
            "Fitting estimator with 86 features.\n",
            "Fitting estimator with 85 features.\n",
            "Fitting estimator with 84 features.\n",
            "Fitting estimator with 83 features.\n",
            "Fitting estimator with 82 features.\n",
            "Fitting estimator with 81 features.\n",
            "Fitting estimator with 80 features.\n",
            "Fitting estimator with 79 features.\n",
            "Fitting estimator with 78 features.\n",
            "Fitting estimator with 77 features.\n",
            "Fitting estimator with 76 features.\n",
            "Fitting estimator with 75 features.\n",
            "Fitting estimator with 74 features.\n",
            "Fitting estimator with 73 features.\n",
            "Fitting estimator with 72 features.\n",
            "Fitting estimator with 71 features.\n",
            "Fitting estimator with 70 features.\n",
            "Fitting estimator with 69 features.\n",
            "Fitting estimator with 68 features.\n",
            "Fitting estimator with 67 features.\n",
            "Fitting estimator with 66 features.\n",
            "Fitting estimator with 65 features.\n",
            "Fitting estimator with 64 features.\n",
            "Fitting estimator with 63 features.\n",
            "Fitting estimator with 62 features.\n",
            "Fitting estimator with 61 features.\n",
            "Fitting estimator with 60 features.\n",
            "Fitting estimator with 59 features.\n",
            "Fitting estimator with 58 features.\n",
            "Fitting estimator with 57 features.\n",
            "Fitting estimator with 56 features.\n",
            "Fitting estimator with 55 features.\n",
            "Fitting estimator with 54 features.\n",
            "Fitting estimator with 53 features.\n",
            "Fitting estimator with 52 features.\n",
            "Fitting estimator with 51 features.\n",
            "Fitting estimator with 50 features.\n",
            "Fitting estimator with 49 features.\n",
            "Fitting estimator with 48 features.\n",
            "Fitting estimator with 47 features.\n",
            "Fitting estimator with 46 features.\n",
            "Fitting estimator with 45 features.\n",
            "Fitting estimator with 44 features.\n",
            "Fitting estimator with 43 features.\n",
            "Fitting estimator with 42 features.\n",
            "Fitting estimator with 41 features.\n",
            "Fitting estimator with 40 features.\n",
            "Fitting estimator with 39 features.\n",
            "Fitting estimator with 38 features.\n",
            "Fitting estimator with 37 features.\n",
            "Fitting estimator with 36 features.\n",
            "Fitting estimator with 35 features.\n",
            "Fitting estimator with 34 features.\n",
            "Fitting estimator with 33 features.\n",
            "Fitting estimator with 32 features.\n",
            "Fitting estimator with 31 features.\n",
            "Fitting estimator with 30 features.\n",
            "Fitting estimator with 29 features.\n",
            "Fitting estimator with 28 features.\n",
            "Fitting estimator with 27 features.\n",
            "Fitting estimator with 26 features.\n",
            "Fitting estimator with 25 features.\n",
            "Fitting estimator with 24 features.\n",
            "Fitting estimator with 23 features.\n",
            "Fitting estimator with 22 features.\n",
            "Fitting estimator with 21 features.\n",
            "Fitting estimator with 20 features.\n",
            "Fitting estimator with 19 features.\n",
            "Fitting estimator with 18 features.\n",
            "Fitting estimator with 17 features.\n",
            "Fitting estimator with 16 features.\n",
            "Fitting estimator with 15 features.\n",
            "Fitting estimator with 14 features.\n",
            "Fitting estimator with 13 features.\n",
            "Fitting estimator with 12 features.\n",
            "Fitting estimator with 11 features.\n"
          ]
        },
        {
          "output_type": "execute_result",
          "data": {
            "text/plain": [
              "RFE(estimator=LinearSVC(C=0.01, dual=False), n_features_to_select=10, verbose=1)"
            ]
          },
          "metadata": {},
          "execution_count": 20
        }
      ]
    },
    {
      "cell_type": "code",
      "metadata": {
        "colab": {
          "base_uri": "https://localhost:8080/"
        },
        "id": "xR9H4FLnoXjE",
        "outputId": "ef6f25d6-93c9-4377-9f4e-3c472b2bc1cb"
      },
      "source": [
        "rfe.ranking_"
      ],
      "execution_count": 21,
      "outputs": [
        {
          "output_type": "execute_result",
          "data": {
            "text/plain": [
              "array([129,  69,   1,  71,   1,  23,  72,   1,   1, 130,   1,   1,   1,\n",
              "         5,  14,  19,  30,  27, 102,  22,  18,  13,  11,   9,   8,   6,\n",
              "         7,  10,  12,  17,  26,  31,  39, 119,  34, 112,  16,   2,   1,\n",
              "        20,  25,  35,  66,  74, 127,  93,  50,  51,  53,  55,  57,  56,\n",
              "        52,  54,  47,  43,  40,  36,  29,  24,  21,  33,  32,  37,  45,\n",
              "        42,  44,  48,  59,  49,  61,  58,  62,  65,  76, 123, 125, 121,\n",
              "       106,   3,   1,  15, 107,  63,  70, 116, 126, 109, 105,  94,  92,\n",
              "        85,  95,  96, 104, 115, 111, 114, 113, 110, 103, 100,  97,  87,\n",
              "        83,  78,  68,  64,  41,  38,  28,  60,  46,  67,  77,  81,  90,\n",
              "        89,  88,  99, 117, 101, 118, 108,  98,  91,  86,  84,  80,  79,\n",
              "        73,  75,  82, 120, 128, 124, 122,   4,   1])"
            ]
          },
          "metadata": {},
          "execution_count": 21
        }
      ]
    },
    {
      "cell_type": "markdown",
      "metadata": {
        "id": "aP58IdQloXjF"
      },
      "source": [
        "### наиболее информативные признаки:"
      ]
    },
    {
      "cell_type": "code",
      "metadata": {
        "colab": {
          "base_uri": "https://localhost:8080/"
        },
        "id": "Fdnc63EBoXjF",
        "outputId": "e3c13ee7-d4c5-49bc-d0df-19e42baf70eb"
      },
      "source": [
        "print_selected_features(feature_names, rfe.get_support())"
      ],
      "execution_count": 22,
      "outputs": [
        {
          "output_type": "stream",
          "name": "stdout",
          "text": [
            "              Признак\n",
            "0         Correlation\n",
            "1   InverseDiffMoment\n",
            "2          SumEntropy\n",
            "3             Entropy\n",
            "4   DifferenceEntropy\n",
            "5  MeasOfCorrelation1\n",
            "6  MeasOfCorrelation2\n",
            "7          lbp_r3_h25\n",
            "8          lbp_r5_h41\n",
            "9          lbp_r7_h57\n"
          ]
        }
      ]
    },
    {
      "cell_type": "markdown",
      "metadata": {
        "id": "oqy9XRHQoXjF"
      },
      "source": [
        "## Оценка на основе модели LinearSVC"
      ]
    },
    {
      "cell_type": "code",
      "metadata": {
        "id": "FO9tTcUMoXjG"
      },
      "source": [
        "from sklearn.svm import LinearSVC\n",
        "from sklearn.feature_selection import SelectFromModel"
      ],
      "execution_count": 23,
      "outputs": []
    },
    {
      "cell_type": "code",
      "metadata": {
        "id": "DJDnVpYhoXjG"
      },
      "source": [
        "lsvc = LinearSVC(C=0.01, penalty=\"l1\", dual=False).fit(X, labels)\n",
        "lsvc_model_selector = SelectFromModel(lsvc, prefit=True)"
      ],
      "execution_count": 24,
      "outputs": []
    },
    {
      "cell_type": "code",
      "metadata": {
        "id": "FrZ0OrgvoXjG"
      },
      "source": [
        "mean_svc_coefs = np.mean(lsvc.coef_, axis=0)"
      ],
      "execution_count": 25,
      "outputs": []
    },
    {
      "cell_type": "markdown",
      "metadata": {
        "id": "tF7OB4J9oXjG"
      },
      "source": [
        "### наиболее информативные признаки:"
      ]
    },
    {
      "cell_type": "code",
      "metadata": {
        "colab": {
          "base_uri": "https://localhost:8080/"
        },
        "id": "Tj6YslFYoXjH",
        "outputId": "01bf7dfc-fdd3-4e27-c1ec-10e01ad50299"
      },
      "source": [
        "print_selected_features(feature_names, lsvc_model_selector.get_support(), mean_svc_coefs)"
      ],
      "execution_count": 26,
      "outputs": [
        {
          "output_type": "stream",
          "name": "stdout",
          "text": [
            "       Признак     score\n",
            "0     Contrast  0.000129\n",
            "3  SumVariance  0.000014\n",
            "1     Variance -0.000394\n",
            "2   SumAverage -0.005690\n"
          ]
        }
      ]
    },
    {
      "cell_type": "markdown",
      "metadata": {
        "id": "x8hILjIMoXjH"
      },
      "source": [
        "## Оценка на основе модели ExtraTrees "
      ]
    },
    {
      "cell_type": "code",
      "metadata": {
        "id": "ozoAApDsoXjH"
      },
      "source": [
        "from sklearn.ensemble import ExtraTreesClassifier"
      ],
      "execution_count": 27,
      "outputs": []
    },
    {
      "cell_type": "code",
      "metadata": {
        "id": "mq3VNe9IoXjI"
      },
      "source": [
        "extra_trees = ExtraTreesClassifier(n_estimators=1000)\n",
        "extra_trees = extra_trees.fit(X, labels)\n",
        "extra_trees_selector = SelectFromModel(extra_trees, prefit=True)"
      ],
      "execution_count": 28,
      "outputs": []
    },
    {
      "cell_type": "markdown",
      "metadata": {
        "id": "jrlq8G_3oXjI"
      },
      "source": [
        "### наиболее информативные признаки:"
      ]
    },
    {
      "cell_type": "code",
      "metadata": {
        "colab": {
          "base_uri": "https://localhost:8080/"
        },
        "id": "uDgzP9WhoXjI",
        "outputId": "9c14489e-abc4-49fd-f829-ed8b81ec41c6"
      },
      "source": [
        "print_selected_features(feature_names, extra_trees_selector.get_support(), extra_trees.feature_importances_)"
      ],
      "execution_count": 29,
      "outputs": [
        {
          "output_type": "stream",
          "name": "stdout",
          "text": [
            "               Признак     score\n",
            "42          lbp_r7_h56  0.021857\n",
            "41          lbp_r7_h55  0.019400\n",
            "28          lbp_r5_h37  0.017804\n",
            "17          lbp_r3_h21  0.017205\n",
            "1             Contrast  0.017103\n",
            "9    DifferenceEntropy  0.016473\n",
            "30          lbp_r5_h40  0.015950\n",
            "39          lbp_r7_h53  0.015158\n",
            "16          lbp_r3_h20  0.014161\n",
            "8              Entropy  0.013303\n",
            "6          SumVariance  0.012798\n",
            "36          lbp_r7_h29  0.011801\n",
            "19          lbp_r3_h24  0.011717\n",
            "29          lbp_r5_h39  0.011706\n",
            "14           lbp_r3_h4  0.011381\n",
            "13           lbp_r3_h3  0.011155\n",
            "7           SumEntropy  0.011093\n",
            "5           SumAverage  0.011055\n",
            "40          lbp_r7_h54  0.011052\n",
            "3             Variance  0.010979\n",
            "12           lbp_r3_h2  0.010158\n",
            "31           lbp_r7_h0  0.009676\n",
            "27          lbp_r5_h36  0.009593\n",
            "2          Correlation  0.009567\n",
            "4    InverseDiffMoment  0.009555\n",
            "18          lbp_r3_h23  0.009434\n",
            "37          lbp_r7_h31  0.009174\n",
            "38          lbp_r7_h52  0.008580\n",
            "15           lbp_r3_h5  0.008438\n",
            "10  MeasOfCorrelation1  0.008369\n",
            "33           lbp_r7_h2  0.008202\n",
            "20           lbp_r5_h2  0.008139\n",
            "11           lbp_r3_h0  0.008133\n",
            "0                  ASM  0.008024\n",
            "21           lbp_r5_h3  0.007986\n",
            "34           lbp_r7_h3  0.007942\n",
            "24          lbp_r5_h21  0.007790\n",
            "35           lbp_r7_h4  0.007687\n",
            "25          lbp_r5_h28  0.007640\n",
            "22           lbp_r5_h4  0.007624\n",
            "23           lbp_r5_h5  0.007555\n",
            "26          lbp_r5_h35  0.007536\n",
            "32           lbp_r7_h1  0.007200\n"
          ]
        }
      ]
    },
    {
      "cell_type": "code",
      "metadata": {
        "id": "izVXMafdoXjI",
        "colab": {
          "base_uri": "https://localhost:8080/",
          "height": 590
        },
        "outputId": "6fb1c61e-591e-4d36-8004-9a98842216ed"
      },
      "source": [
        "plt.bar(X_indices, extra_trees.feature_importances_)"
      ],
      "execution_count": 30,
      "outputs": [
        {
          "output_type": "execute_result",
          "data": {
            "text/plain": [
              "<BarContainer object of 139 artists>"
            ]
          },
          "metadata": {},
          "execution_count": 30
        },
        {
          "output_type": "display_data",
          "data": {
            "text/plain": [
              "<Figure size 2160x1440 with 1 Axes>"
            ],
            "image/png": "[encoded data removed]"
          },
          "metadata": {
            "needs_background": "light"
          }
        }
      ]
    },
    {
      "cell_type": "markdown",
      "metadata": {
        "id": "RqOtOszloXjI"
      },
      "source": [
        "## Оценка на основе модели RandomForest"
      ]
    },
    {
      "cell_type": "code",
      "metadata": {
        "id": "jWBlDw13oXjI"
      },
      "source": [
        "from sklearn.ensemble import RandomForestClassifier"
      ],
      "execution_count": 31,
      "outputs": []
    },
    {
      "cell_type": "code",
      "metadata": {
        "id": "fJRS5xCqoXjJ"
      },
      "source": [
        "forest = RandomForestClassifier(n_estimators=1000, random_state=0)\n",
        "forest.fit(X, labels)\n",
        "forest_selector = SelectFromModel(forest, prefit=True)"
      ],
      "execution_count": 32,
      "outputs": []
    },
    {
      "cell_type": "markdown",
      "metadata": {
        "id": "yp0lHpJaoXjJ"
      },
      "source": [
        "### наиболее информативные признаки:"
      ]
    },
    {
      "cell_type": "code",
      "metadata": {
        "colab": {
          "base_uri": "https://localhost:8080/"
        },
        "id": "X2teJCT3oXjJ",
        "outputId": "e91723b7-4ba3-4ac1-f13b-ef69bdc84d05"
      },
      "source": [
        "print_selected_features(feature_names, forest_selector.get_support(), forest.feature_importances_)"
      ],
      "execution_count": 33,
      "outputs": [
        {
          "output_type": "stream",
          "name": "stdout",
          "text": [
            "               Признак     score\n",
            "40          lbp_r7_h56  0.040151\n",
            "26          lbp_r5_h37  0.039080\n",
            "18          lbp_r3_h21  0.035209\n",
            "37          lbp_r7_h53  0.026054\n",
            "28          lbp_r5_h40  0.023375\n",
            "17          lbp_r3_h20  0.020274\n",
            "19          lbp_r3_h24  0.018582\n",
            "15           lbp_r3_h5  0.017543\n",
            "39          lbp_r7_h55  0.017465\n",
            "34          lbp_r7_h29  0.015917\n",
            "29           lbp_r7_h0  0.015466\n",
            "3             Variance  0.014382\n",
            "9    DifferenceEntropy  0.013910\n",
            "38          lbp_r7_h54  0.013762\n",
            "13           lbp_r3_h3  0.013710\n",
            "8              Entropy  0.013506\n",
            "1             Contrast  0.012796\n",
            "7           SumEntropy  0.012760\n",
            "22           lbp_r5_h4  0.012327\n",
            "14           lbp_r3_h4  0.012228\n",
            "5           SumAverage  0.011456\n",
            "12           lbp_r3_h2  0.010963\n",
            "31           lbp_r7_h3  0.010781\n",
            "35          lbp_r7_h31  0.010259\n",
            "23           lbp_r5_h5  0.010079\n",
            "0                  ASM  0.010022\n",
            "21           lbp_r5_h3  0.009236\n",
            "36          lbp_r7_h37  0.009060\n",
            "6          SumVariance  0.009036\n",
            "4    InverseDiffMoment  0.009017\n",
            "32           lbp_r7_h4  0.008646\n",
            "11  MeasOfCorrelation2  0.008372\n",
            "20           lbp_r5_h2  0.008310\n",
            "16           lbp_r3_h6  0.007823\n",
            "30           lbp_r7_h2  0.007789\n",
            "24          lbp_r5_h35  0.007778\n",
            "10  MeasOfCorrelation1  0.007763\n",
            "33           lbp_r7_h5  0.007610\n",
            "2          Correlation  0.007435\n",
            "27          lbp_r5_h39  0.007411\n",
            "25          lbp_r5_h36  0.007239\n"
          ]
        }
      ]
    },
    {
      "cell_type": "code",
      "metadata": {
        "colab": {
          "base_uri": "https://localhost:8080/",
          "height": 590
        },
        "id": "yy3hr7VIoXjJ",
        "outputId": "ce57194e-3df9-419f-d38a-a6361d286432"
      },
      "source": [
        "plt.bar(X_indices, forest.feature_importances_)"
      ],
      "execution_count": 34,
      "outputs": [
        {
          "output_type": "execute_result",
          "data": {
            "text/plain": [
              "<BarContainer object of 139 artists>"
            ]
          },
          "metadata": {},
          "execution_count": 34
        },
        {
          "output_type": "display_data",
          "data": {
            "text/plain": [
              "<Figure size 2160x1440 with 1 Axes>"
            ],
            "image/png": "[encoded data removed]"
          },
          "metadata": {
            "needs_background": "light"
          }
        }
      ]
    },
    {
      "cell_type": "markdown",
      "metadata": {
        "id": "AxncoDkboXjJ"
      },
      "source": [
        "## Комбинированный график"
      ]
    },
    {
      "cell_type": "code",
      "metadata": {
        "id": "uHQ7co4XoXjJ"
      },
      "source": [
        "forest_vals = forest.feature_importances_ / np.max(forest.feature_importances_)\n",
        "extra_trees_val = extra_trees.feature_importances_ / np.max(extra_trees.feature_importances_)\n",
        "anova_val = selector_kbest.scores_ / np.max(selector_kbest.scores_)\n",
        "svm_val = np.abs(mean_svc_coefs)\n",
        "svm_val = svm_val / np.max(svm_val)"
      ],
      "execution_count": 35,
      "outputs": []
    },
    {
      "cell_type": "code",
      "metadata": {
        "colab": {
          "base_uri": "https://localhost:8080/",
          "height": 587
        },
        "id": "ooiTBU7goXjK",
        "outputId": "f04c60ab-4553-4587-cbb1-d660cb72735a"
      },
      "source": [
        "bar_width = 0.25\n",
        "\n",
        "plt.bar(X_indices, anova_val, bar_width, label='ANOVA')\n",
        "plt.bar(X_indices + bar_width, svm_val, bar_width, label='Linear SVM L1')\n",
        "plt.bar(X_indices + bar_width*2, extra_trees_val, bar_width, label='Extra Trees')\n",
        "plt.bar(X_indices + bar_width*3, forest_vals, bar_width, label='Random Forest')\n",
        "\n",
        "plt.legend()\n",
        "plt.tight_layout()\n",
        "plt.show()\n"
      ],
      "execution_count": 36,
      "outputs": [
        {
          "output_type": "display_data",
          "data": {
            "text/plain": [
              "<Figure size 2160x1440 with 1 Axes>"
            ],
            "image/png": "[encoded data removed]"
          },
          "metadata": {
            "needs_background": "light"
          }
        }
      ]
    },
    {
      "cell_type": "code",
      "metadata": {
        "id": "S0F2zdfyo0Zr"
      },
      "source": [],
      "execution_count": null,
      "outputs": []
    }
  ]
}